{
  "nbformat": 4,
  "nbformat_minor": 0,
  "metadata": {
    "colab": {
      "provenance": [],
      "authorship_tag": "ABX9TyP94TlUfMfn65GNA8UAUnYz",
      "include_colab_link": true
    },
    "kernelspec": {
      "name": "python3",
      "display_name": "Python 3"
    },
    "language_info": {
      "name": "python"
    }
  },
  "cells": [
    {
      "cell_type": "markdown",
      "metadata": {
        "id": "view-in-github",
        "colab_type": "text"
      },
      "source": [
        "<a href=\"https://colab.research.google.com/github/Tsaakshi/Advance-Python-for-Spatial-Analytics/blob/main/GDAL_practice.ipynb\" target=\"_parent\"><img src=\"https://colab.research.google.com/assets/colab-badge.svg\" alt=\"Open In Colab\"/></a>"
      ]
    },
    {
      "cell_type": "code",
      "execution_count": 2,
      "metadata": {
        "id": "oOX3ht2zblv3"
      },
      "outputs": [],
      "source": [
        "from osgeo import gdal\n",
        "import matplotlib.pyplot as plt"
      ]
    },
    {
      "cell_type": "code",
      "source": [
        "src_filename=r\"C:\\Users\\saaks\\OneDrive\\Desktop\\PROJECT\\Flood_Lakhimpur\\DEM\\Lkhm_final_dem.tif\"\n",
        "dst_filename=r\"C:\\Users\\saaks\\OneDrive\\Documents\\SEMESTER II\\Advanced Python-R.Dhumal\\PRACTICAL\\GDAL\""
      ],
      "metadata": {
        "id": "MvNBMjdkb2va"
      },
      "execution_count": 30,
      "outputs": []
    },
    {
      "cell_type": "code",
      "source": [
        "driver=gdal.GetDriverByName('GTiff')"
      ],
      "metadata": {
        "id": "pUUru1YkfTqa"
      },
      "execution_count": 31,
      "outputs": []
    },
    {
      "cell_type": "code",
      "source": [
        "src_ds=gdal.Open(src_filename)"
      ],
      "metadata": {
        "id": "sdgelojYgutJ"
      },
      "execution_count": 32,
      "outputs": []
    },
    {
      "cell_type": "code",
      "source": [
        "new_data=driver.CreateCopy(dst_filename,src_ds,0)"
      ],
      "metadata": {
        "colab": {
          "base_uri": "https://localhost:8080/",
          "height": 141
        },
        "id": "a_t4lL4_jLLN",
        "outputId": "0d8d73c3-f71d-4e6b-f657-08ffba8b5182"
      },
      "execution_count": 33,
      "outputs": [
        {
          "output_type": "error",
          "ename": "AttributeError",
          "evalue": "'Driver' object has no attribute 'createCopy'",
          "traceback": [
            "\u001b[0;31m---------------------------------------------------------------------------\u001b[0m",
            "\u001b[0;31mAttributeError\u001b[0m                            Traceback (most recent call last)",
            "\u001b[0;32m<ipython-input-33-dd2edacad979>\u001b[0m in \u001b[0;36m<cell line: 1>\u001b[0;34m()\u001b[0m\n\u001b[0;32m----> 1\u001b[0;31m \u001b[0mnew_data\u001b[0m\u001b[0;34m=\u001b[0m\u001b[0mdriver\u001b[0m\u001b[0;34m.\u001b[0m\u001b[0mcreateCopy\u001b[0m\u001b[0;34m(\u001b[0m\u001b[0mdst_filename\u001b[0m\u001b[0;34m,\u001b[0m\u001b[0msrc_ds\u001b[0m\u001b[0;34m,\u001b[0m\u001b[0;36m0\u001b[0m\u001b[0;34m)\u001b[0m\u001b[0;34m\u001b[0m\u001b[0;34m\u001b[0m\u001b[0m\n\u001b[0m",
            "\u001b[0;31mAttributeError\u001b[0m: 'Driver' object has no attribute 'createCopy'"
          ]
        }
      ]
    },
    {
      "cell_type": "code",
      "source": [],
      "metadata": {
        "id": "t_weetAqg16Z"
      },
      "execution_count": 11,
      "outputs": []
    },
    {
      "cell_type": "code",
      "source": [],
      "metadata": {
        "id": "JPA1fSGhhP2E"
      },
      "execution_count": null,
      "outputs": []
    }
  ]
}